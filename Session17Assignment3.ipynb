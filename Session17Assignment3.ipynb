{
 "cells": [
  {
   "cell_type": "code",
   "execution_count": 1,
   "metadata": {},
   "outputs": [],
   "source": [
    "# Two balls are drawn at random in succession without replacement from an urn containing 4 red balls and 6 black balls.\n",
    "# Find the probabilities of all the possible outcomes.\n",
    "\n",
    "# The probabilty all possible outcomes is always = 1"
   ]
  },
  {
   "cell_type": "code",
   "execution_count": 2,
   "metadata": {},
   "outputs": [],
   "source": [
    "# Importing libraries\n",
    "from scipy.stats import binom"
   ]
  },
  {
   "cell_type": "code",
   "execution_count": 3,
   "metadata": {},
   "outputs": [],
   "source": [
    "# Initializing values\n",
    "r = 4 # No. of red balls\n",
    "b = 6 # No. of black balls\n",
    "t = r + b # Total number of balls"
   ]
  },
  {
   "cell_type": "code",
   "execution_count": 4,
   "metadata": {},
   "outputs": [
    {
     "name": "stdout",
     "output_type": "stream",
     "text": [
      "Probability of (red, red):  0.13333333333333333\n",
      "Probability of (red,black):  0.26666666666666666\n",
      "Probability of (black, red):  0.26666666666666666\n",
      "Probability of (black, black):  0.3333333333333333\n"
     ]
    }
   ],
   "source": [
    "# There are only four possible combinations when the two balls are drawn at random: \n",
    "# (red, red),(red,black),(black, red), (black, black)\n",
    "\n",
    "# Probability of (red, red)\n",
    "prob_rr = ((r/t)*((r-1)/(t-1))) \n",
    "print(\"Probability of (red, red): \", prob_rr)\n",
    "\n",
    "# Probability of (red, black)\n",
    "prob_rb = ((r/t)*((b)/(t-1))) \n",
    "print(\"Probability of (red,black): \", prob_rb)\n",
    "\n",
    "# Probability of (black, red)\n",
    "prob_br = ((b/t)*((r)/(t-1))) \n",
    "print(\"Probability of (black, red): \", prob_br)\n",
    "\n",
    "# Probability of (black, black)\n",
    "prob_bb =  ((b/t)*((b-1)/(t-1)))\n",
    "print(\"Probability of (black, black): \", prob_bb)"
   ]
  },
  {
   "cell_type": "code",
   "execution_count": 5,
   "metadata": {},
   "outputs": [
    {
     "data": {
      "text/plain": [
       "1.0"
      ]
     },
     "execution_count": 5,
     "metadata": {},
     "output_type": "execute_result"
    }
   ],
   "source": [
    "# The probabilty of all possible outcomes\n",
    "prob_all = ((r/t)*((r-1)/(t-1)))  +  ((r/t)*((b)/(t-1)))  +  ((b/t)*((r)/(t-1)))   +  ((b/t)*((b-1)/(t-1)))\n",
    "# OR\n",
    "# prob_all = prob_rr + prob_rb + prob_br + prob_bb\n",
    "prob_all"
   ]
  }
 ],
 "metadata": {
  "kernelspec": {
   "display_name": "Python 3",
   "language": "python",
   "name": "python3"
  },
  "language_info": {
   "codemirror_mode": {
    "name": "ipython",
    "version": 3
   },
   "file_extension": ".py",
   "mimetype": "text/x-python",
   "name": "python",
   "nbconvert_exporter": "python",
   "pygments_lexer": "ipython3",
   "version": "3.6.4"
  },
  "latex_envs": {
   "LaTeX_envs_menu_present": true,
   "autoclose": false,
   "autocomplete": true,
   "bibliofile": "biblio.bib",
   "cite_by": "apalike",
   "current_citInitial": 1,
   "eqLabelWithNumbers": true,
   "eqNumInitial": 1,
   "hotkeys": {
    "equation": "Ctrl-E",
    "itemize": "Ctrl-I"
   },
   "labels_anchors": false,
   "latex_user_defs": false,
   "report_style_numbering": false,
   "user_envs_cfg": false
  },
  "toc": {
   "base_numbering": 1,
   "nav_menu": {},
   "number_sections": true,
   "sideBar": true,
   "skip_h1_title": false,
   "title_cell": "Table of Contents",
   "title_sidebar": "Contents",
   "toc_cell": false,
   "toc_position": {},
   "toc_section_display": true,
   "toc_window_display": false
  }
 },
 "nbformat": 4,
 "nbformat_minor": 2
}
